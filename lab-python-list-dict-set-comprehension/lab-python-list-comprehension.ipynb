{
 "cells": [
  {
   "cell_type": "markdown",
   "id": "25d7736c-ba17-4aff-b6bb-66eba20fbf4e",
   "metadata": {},
   "source": [
    "# Lab | List, Dict and Set Comprehension"
   ]
  },
  {
   "cell_type": "markdown",
   "id": "7dd3cbde-675a-4b81-92c3-f728846dbe06",
   "metadata": {},
   "source": [
    "## Exercise: Managing Customer Orders Optimized with Comprehension"
   ]
  },
  {
   "cell_type": "markdown",
   "id": "5d500160-2fb7-4777-b5e4-09d45ebaf328",
   "metadata": {},
   "source": [
    "In the previous exercise, you developed a program to manage customer orders and inventory. Now, let's take it a step further and incorporate comprehension into your code.\n",
    "\n",
    "Follow the steps below to complete the exercise:\n",
    "\n",
    "1. Review your code from the previous exercise and identify areas where you can apply comprehension to simplify and streamline your code. \n",
    "\n",
    "    - *Hint: Apply it to initialize inventory, updating the inventory and printing the updated inventory.*\n",
    "    \n",
    "    - For example, in initializing the inventory, we could have:\n",
    "    \n",
    "        ```python\n",
    "        def initialize_inventory(products):\n",
    "            inventory = {product: int(input(f\"Enter the quantity of {product}s available: \")) for product in products}\n",
    "            return inventory\n",
    "\n",
    "        ```\n",
    "<br>\n",
    "    \n",
    "    \n",
    "2. Modify the function get_customer_orders so it prompts the user to enter the number of customer orders and gathers the product names using a loop and user input. Use comprehension.\n",
    "\n",
    "3. Add a new function to calculate the total price of the customer order. For each product in customer_orders, prompt the user to enter the price of that product. Use comprehension to calculate the total price. Note: assume that the user can only have 1 unit of each product.\n",
    "\n",
    "4. Modify the update_inventory function to remove the product from the inventory if its quantity becomes zero after fulfilling the customer orders. Use comprehension to filter out the products with a quantity of zero from the inventory.\n",
    "\n",
    "5. Print the total price of the customer order.\n",
    "\n",
    "Your code should produce output similar to the following:\n",
    "\n",
    "```python\n",
    "Enter the quantity of t-shirts available:  5\n",
    "Enter the quantity of mugs available:  4\n",
    "Enter the quantity of hats available:  3\n",
    "Enter the quantity of books available:  2\n",
    "Enter the quantity of keychains available:  1\n",
    "Enter the number of customer orders:  2\n",
    "Enter the name of a product that a customer wants to order:  hat\n",
    "Enter the name of a product that a customer wants to order:  keychain\n",
    "\n",
    "Order Statistics:\n",
    "Total Products Ordered: 2\n",
    "Percentage of Unique Products Ordered: 40.0\n",
    "\n",
    "Updated Inventory:\n",
    "t-shirt: 5\n",
    "mug: 4\n",
    "hat: 2\n",
    "book: 2\n",
    "Enter the price of keychain:  5\n",
    "Enter the price of hat:  10\n",
    "Total Price: 15.0\n",
    "\n",
    "```\n"
   ]
  },
  {
   "cell_type": "code",
   "execution_count": 120,
   "id": "2b3f16a8",
   "metadata": {},
   "outputs": [],
   "source": [
    "def initialize_inventory(products):\n",
    "    inventory = {product: int(input(f\"Introduce cuant@s {product}s hay en la tienda: \")) for product in products} \n",
    "    return inventory\n",
    "    "
   ]
  },
  {
   "cell_type": "code",
   "execution_count": 121,
   "id": "5d5f9f53",
   "metadata": {},
   "outputs": [],
   "source": [
    "def get_customer_orders(products):\n",
    "    num_orders = int(input(\"\\nCuantos productos hay en el pedido \")) \n",
    "    customer_orders = []\n",
    "\n",
    "    for _ in range(num_orders):\n",
    "        product_input = input(\"\\nIntroduzca el producto que desea comprar: \")\n",
    "        if product_input in products:\n",
    "            customer_orders.append(product_input)\n",
    "\n",
    "    return customer_orders"
   ]
  },
  {
   "cell_type": "code",
   "execution_count": 122,
   "id": "7a945d2b",
   "metadata": {},
   "outputs": [],
   "source": [
    "def calculate_total_price(customer_orders):\n",
    "    prices = [float(input(f\"\\nCual es el precio del {product}: \")) for product in customer_orders]\n",
    "    return sum(prices)"
   ]
  },
  {
   "cell_type": "code",
   "execution_count": 123,
   "id": "0d375d2b",
   "metadata": {},
   "outputs": [],
   "source": [
    "def update_inventory(customer_orders, inventory):\n",
    "    for product in customer_orders:\n",
    "        if product in inventory:\n",
    "            inventory[product] -= 1\n",
    "            if inventory[product] == 0:\n",
    "                del inventory[product]\n",
    "    return inventory\n"
   ]
  },
  {
   "cell_type": "code",
   "execution_count": 124,
   "id": "a7017daf",
   "metadata": {},
   "outputs": [],
   "source": [
    "def calculate_order_statistics(customer_orders, inventory):\n",
    "    total_ordered = len(customer_orders)\n",
    "    total_available = sum(inventory.values())\n",
    "    percentage_ordered = (total_ordered / total_available) * 100\n",
    "    return total_ordered, percentage_ordered"
   ]
  },
  {
   "cell_type": "code",
   "execution_count": 125,
   "id": "3b246e6d",
   "metadata": {},
   "outputs": [],
   "source": [
    "def print_order_statistics(order_statistics):\n",
    "    total_ordered, percentage_ordered = order_statistics\n",
    "    print('\\nEstadísticas del Pedido:')\n",
    "    print(f'Total de productos pedidos: {total_ordered}')\n",
    "    print(f'Porcentaje de productos pedidos: {percentage_ordered}%')"
   ]
  },
  {
   "cell_type": "code",
   "execution_count": 126,
   "id": "5d80c3a6",
   "metadata": {},
   "outputs": [],
   "source": [
    "\n",
    "def print_updated_inventory(inventory):\n",
    "    print('\\nInventario Actualizado:')\n",
    "    for product, quantity in inventory.items():\n",
    "        print(f'{product}: {quantity}')\n"
   ]
  },
  {
   "cell_type": "code",
   "execution_count": null,
   "id": "28da0e9b",
   "metadata": {},
   "outputs": [],
   "source": [
    "# Lista de productos\n",
    "productos = [\"camiseta\", \"taza\", \"sombrero\", \"libro\", \"llavero\"]\n",
    "\n",
    "# Inicializar inventario\n",
    "inventario = initialize_inventory(productos)\n",
    "\n",
    "# Obtener pedidos del cliente\n",
    "pedido_cliente = get_customer_orders(productos)\n",
    "\n",
    "# Calcular el precio total de la orden del cliente\n",
    "total_price = calculate_total_price(pedido_cliente)\n",
    "print(f\"\\nTotal Price: {total_price}\")\n",
    "\n",
    "# Actualizar inventario\n",
    "inventario_actualizado = update_inventory(pedido_cliente, inventario)\n",
    "\n",
    "# Calcular estadísticas del pedido\n",
    "estadisticas_pedido = calculate_order_statistics(pedido_cliente, inventario_actualizado)\n",
    "print_order_statistics(estadisticas_pedido)\n",
    "\n",
    "# Imprimir inventario actualizado\n",
    "print_updated_inventory(inventario_actualizado)"
   ]
  },
  {
   "cell_type": "markdown",
   "id": "4caab61e",
   "metadata": {},
   "source": [
    "## "
   ]
  }
 ],
 "metadata": {
  "kernelspec": {
   "display_name": "Python 3 (ipykernel)",
   "language": "python",
   "name": "python3"
  },
  "language_info": {
   "codemirror_mode": {
    "name": "ipython",
    "version": 3
   },
   "file_extension": ".py",
   "mimetype": "text/x-python",
   "name": "python",
   "nbconvert_exporter": "python",
   "pygments_lexer": "ipython3",
   "version": "3.11.5"
  }
 },
 "nbformat": 4,
 "nbformat_minor": 5
}
